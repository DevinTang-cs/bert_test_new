{
  "nbformat": 4,
  "nbformat_minor": 0,
  "metadata": {
    "colab": {
      "provenance": [],
      "gpuType": "T4",
      "authorship_tag": "ABX9TyPzsCU10ex2Us2zcXFvHxf1",
      "include_colab_link": true
    },
    "kernelspec": {
      "name": "python3",
      "display_name": "Python 3"
    },
    "language_info": {
      "name": "python"
    },
    "accelerator": "GPU"
  },
  "cells": [
    {
      "cell_type": "markdown",
      "metadata": {
        "id": "view-in-github",
        "colab_type": "text"
      },
      "source": [
        "<a href=\"https://colab.research.google.com/github/DevinTang-cs/bert_test_new/blob/main/test_bert.ipynb\" target=\"_parent\"><img src=\"https://colab.research.google.com/assets/colab-badge.svg\" alt=\"Open In Colab\"/></a>"
      ]
    },
    {
      "cell_type": "code",
      "source": [
        "!nvidia-smi\n",
        "!pip install transformers datasets accelerate torch"
      ],
      "metadata": {
        "collapsed": true,
        "id": "KAPBOcaS9FDY"
      },
      "execution_count": null,
      "outputs": []
    },
    {
      "cell_type": "code",
      "source": [
        "import time"
      ],
      "metadata": {
        "id": "05gxdjmMAbGT"
      },
      "execution_count": 3,
      "outputs": []
    },
    {
      "cell_type": "code",
      "execution_count": null,
      "metadata": {
        "collapsed": true,
        "id": "_mRistFa8mOb"
      },
      "outputs": [],
      "source": [
        "from transformers import pipeline\n",
        "classifier = pipeline(\"sentiment-analysis\", model=\"uer/roberta-base-finetuned-jd-binary-chinese\")\n",
        "print(classifier(\"烦死了\"))"
      ]
    },
    {
      "cell_type": "code",
      "source": [
        "time1 = time.time()\n",
        "print(classifier(\"该政府机关文档管理信息系统以解决政务文档管理痛点、助力电子政务建设为核心目标，研发逻辑清晰、实践价值突出，整体设计与实现符合政府信息化管理需求，具体评推动电子政务发展的有效工具，仅需在后续迭代中进一步强化数据加密、多终端适配等细节，可更好满足政府日益精细化的信息化管理需求。\"))\n",
        "time2 = time.time()\n",
        "print(time2-time1)"
      ],
      "metadata": {
        "collapsed": true,
        "id": "TV4yR_YT_F-V",
        "colab": {
          "base_uri": "https://localhost:8080/",
          "height": 53
        },
        "outputId": "827952f9-f9e8-4db1-c1a2-2ec6ad58fa84"
      },
      "execution_count": 5,
      "outputs": [
        {
          "output_type": "stream",
          "name": "stdout",
          "text": [
            "[{'label': 'positive (stars 4 and 5)', 'score': 0.5878700613975525}]\n",
            "0.17975926399230957\n"
          ]
        }
      ]
    },
    {
      "cell_type": "code",
      "source": [
        "from datasets import load_dataset\n",
        "from transformers import BertTokenizer, BertForSequenceClassification, Trainer, TrainingArguments"
      ],
      "metadata": {
        "id": "OnluU27eLdy-"
      },
      "execution_count": 6,
      "outputs": []
    },
    {
      "cell_type": "code",
      "source": [
        "# 1. 加载中文BERT\n",
        "model_name = \"bert-base-chinese\"\n",
        "tokenizer = BertTokenizer.from_pretrained(model_name)\n",
        "model = BertForSequenceClassification.from_pretrained(model_name, num_labels=15)"
      ],
      "metadata": {
        "id": "5UBeC8CkNTuc"
      },
      "execution_count": null,
      "outputs": []
    },
    {
      "cell_type": "code",
      "source": [
        "# 2. 加载示例数据（情感分类）\n",
        "dataset = load_dataset(\"clue\", \"tnews\")  # CLUE官方新闻分类数据\n",
        "label_names = dataset[\"train\"].features[\"label\"].names\n",
        "# 构建数字→中文的映射字典（可选，方便查看）\n",
        "label_map = {i: name for i, name in enumerate(label_names)}\n",
        "print(\"标签映射关系：\", label_map)\n",
        "\n",
        "def preprocess(examples):\n",
        "    return tokenizer(examples['sentence'], truncation=True, padding='max_length', max_length=128)\n",
        "\n",
        "encoded = dataset.map(preprocess, batched=True)\n",
        "\n",
        "train_labels = encoded[\"train\"][\"label\"]\n",
        "print(\"训练集标签最大值：\", max(train_labels))  # 若输出14，则需num_labels=15"
      ],
      "metadata": {
        "collapsed": true,
        "id": "yRKGIJkJPZCF"
      },
      "execution_count": null,
      "outputs": []
    },
    {
      "cell_type": "code",
      "source": [
        "# 3. 训练配置（修正参数名称）\n",
        "args = TrainingArguments(\n",
        "    output_dir=\"./results\",\n",
        "    eval_strategy=\"epoch\",  # 关键修正：将 evaluation_strategy 改为 eval_strategy\n",
        "    per_device_train_batch_size=8,\n",
        "    num_train_epochs=3,\n",
        "    fp16=True,  # 若设备不支持混合精度，可设为 False\n",
        "    report_to=\"none\"\n",
        ")\n",
        "\n",
        "trainer = Trainer(\n",
        "    model=model,\n",
        "    args=args,\n",
        "    train_dataset=encoded[\"train\"].select(range(1000)),  # 取少量样本快速测试\n",
        "    eval_dataset=encoded[\"validation\"].select(range(200)),\n",
        ")\n",
        "\n",
        "# 4. 开始训练\n",
        "trainer.train()"
      ],
      "metadata": {
        "id": "etOFPQtvPb7l"
      },
      "execution_count": null,
      "outputs": []
    },
    {
      "cell_type": "code",
      "source": [
        "model_path = \"./results/checkpoint-375\"\n",
        "# 加载原始分词器（bert-base-chinese）\n",
        "original_tokenizer = BertTokenizer.from_pretrained(\"bert-base-chinese\")\n",
        "\n",
        "# 将分词器文件保存到 checkpoint-1250 目录（补充缺失文件）\n",
        "original_tokenizer.save_pretrained(model_path)"
      ],
      "metadata": {
        "colab": {
          "base_uri": "https://localhost:8080/"
        },
        "id": "qKLcUD_QigWs",
        "outputId": "c74166ef-5919-4c68-b5d5-171d64fedc20"
      },
      "execution_count": 12,
      "outputs": [
        {
          "output_type": "execute_result",
          "data": {
            "text/plain": [
              "('./results/checkpoint-375/tokenizer_config.json',\n",
              " './results/checkpoint-375/special_tokens_map.json',\n",
              " './results/checkpoint-375/vocab.txt',\n",
              " './results/checkpoint-375/added_tokens.json')"
            ]
          },
          "metadata": {},
          "execution_count": 12
        }
      ]
    },
    {
      "cell_type": "code",
      "source": [
        "# 加载训练好的模型和分词器\n",
        "# model_path = \"./results/checkpoint-1250\"  # 模型保存路径\n",
        "tokenizer = BertTokenizer.from_pretrained(model_path)  # 加载训练时用的分词器\n",
        "model = BertForSequenceClassification.from_pretrained(model_path)  # 加载训练好的模型"
      ],
      "metadata": {
        "id": "sQdQDMLJVuCg"
      },
      "execution_count": 13,
      "outputs": []
    },
    {
      "cell_type": "code",
      "source": [
        "def predict_preprocess(text):\n",
        "    # 分词、截断、填充，保持与训练时相同的max_length\n",
        "    inputs = tokenizer(\n",
        "        text,\n",
        "        truncation=True,\n",
        "        padding=\"max_length\",\n",
        "        max_length=128,  # 必须与训练时的max_length一致\n",
        "        return_tensors=\"pt\"  # 返回PyTorch张量\n",
        "    )\n",
        "    return inputs"
      ],
      "metadata": {
        "id": "xGV6PdHYWCNN"
      },
      "execution_count": 14,
      "outputs": []
    },
    {
      "cell_type": "code",
      "source": [
        "import torch"
      ],
      "metadata": {
        "id": "ihykQRveWGe2"
      },
      "execution_count": 15,
      "outputs": []
    },
    {
      "cell_type": "code",
      "source": [
        "def predict(text):\n",
        "    # 预处理文本\n",
        "    inputs = predict_preprocess(text)\n",
        "    # 模型推理（关闭梯度计算，加快速度）\n",
        "    with torch.no_grad():\n",
        "        outputs = model(**inputs)  # 输出包含logits（未归一化的概率）\n",
        "    # 取概率最大的类别（多分类任务）\n",
        "    predictions = torch.argmax(outputs.logits, dim=1).item()  # item()转换为Python整数\n",
        "    return predictions\n",
        "\n",
        "# 示例：预测一条新闻的类别（tnews数据集的类别是0-14，对应不同新闻类型）\n",
        "test_text = \"哈哈哈哈哈哈哈哈哈哈\"\n",
        "predicted_label = predict(test_text)\n",
        "\n",
        "print(f\"预测类别：{predicted_label}\")  # 输出如：5（假设5对应\"财经\"类）"
      ],
      "metadata": {
        "colab": {
          "base_uri": "https://localhost:8080/"
        },
        "id": "nPOrSwIdWIgO",
        "outputId": "9110c1bb-8138-48d6-b24d-6f8bfad37e77"
      },
      "execution_count": 17,
      "outputs": [
        {
          "output_type": "stream",
          "name": "stdout",
          "text": [
            "预测类别：2\n"
          ]
        }
      ]
    }
  ]
}